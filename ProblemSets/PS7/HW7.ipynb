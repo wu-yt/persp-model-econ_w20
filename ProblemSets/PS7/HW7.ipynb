{
 "cells": [
  {
   "cell_type": "code",
   "execution_count": 83,
   "metadata": {},
   "outputs": [],
   "source": [
    "import pandas as pd\n",
    "import numpy as np\n",
    "import statsmodels.api as sm\n",
    "import matplotlib.pyplot as plt\n",
    "from sklearn.model_selection import train_test_split, LeaveOneOut, KFold, cross_val_score \n",
    "from sklearn.linear_model import LogisticRegression as lr\n",
    "from sklearn.metrics import classification_report, mean_squared_error\n",
    "from matplotlib.ticker import MultipleLocator as mlt\n",
    "import scipy.interpolate as si\n",
    "from sklearn.metrics import confusion_matrix as ca"
   ]
  },
  {
   "cell_type": "markdown",
   "metadata": {},
   "source": [
    "#### 1.a)"
   ]
  },
  {
   "cell_type": "code",
   "execution_count": 84,
   "metadata": {},
   "outputs": [
    {
     "data": {
      "text/html": [
       "<div>\n",
       "<style scoped>\n",
       "    .dataframe tbody tr th:only-of-type {\n",
       "        vertical-align: middle;\n",
       "    }\n",
       "\n",
       "    .dataframe tbody tr th {\n",
       "        vertical-align: top;\n",
       "    }\n",
       "\n",
       "    .dataframe thead th {\n",
       "        text-align: right;\n",
       "    }\n",
       "</style>\n",
       "<table border=\"1\" class=\"dataframe\">\n",
       "  <thead>\n",
       "    <tr style=\"text-align: right;\">\n",
       "      <th></th>\n",
       "      <th>j=1</th>\n",
       "      <th>j=2</th>\n",
       "    </tr>\n",
       "  </thead>\n",
       "  <tbody>\n",
       "    <tr>\n",
       "      <th>beta0</th>\n",
       "      <td>-24.027617</td>\n",
       "      <td>22.780733</td>\n",
       "    </tr>\n",
       "    <tr>\n",
       "      <th>beta1</th>\n",
       "      <td>1.701734</td>\n",
       "      <td>-1.466297</td>\n",
       "    </tr>\n",
       "    <tr>\n",
       "      <th>beta2</th>\n",
       "      <td>-0.265788</td>\n",
       "      <td>-0.332951</td>\n",
       "    </tr>\n",
       "    <tr>\n",
       "      <th>beta3</th>\n",
       "      <td>1.224101</td>\n",
       "      <td>0.663556</td>\n",
       "    </tr>\n",
       "    <tr>\n",
       "      <th>beta4</th>\n",
       "      <td>0.022507</td>\n",
       "      <td>-0.922682</td>\n",
       "    </tr>\n",
       "  </tbody>\n",
       "</table>\n",
       "</div>"
      ],
      "text/plain": [
       "             j=1        j=2\n",
       "beta0 -24.027617  22.780733\n",
       "beta1   1.701734  -1.466297\n",
       "beta2  -0.265788  -0.332951\n",
       "beta3   1.224101   0.663556\n",
       "beta4   0.022507  -0.922682"
      ]
     },
     "execution_count": 84,
     "metadata": {},
     "output_type": "execute_result"
    }
   ],
   "source": [
    "import pandas as pd\n",
    "df = pd.read_csv('data/strongdrink.txt')\n",
    "X = df[['alco', 'malic', 'tot_phen', 'color_int']]\n",
    "y = df[\"cultivar\"]\n",
    "\n",
    "X_train, X_test, y_train, y_test = train_test_split(X, y, test_size = 0.25,random_state=20)\n",
    "\n",
    "clf = lr(solver='lbfgs', multi_class='multinomial').fit(X_train, y_train)\n",
    "\n",
    "pd.DataFrame({\"j=1\":np.append(clf.intercept_[0],clf.coef_[0]),\n",
    "              \"j=2\":np.append(clf.intercept_[1],clf.coef_[1])},\n",
    "        index=[\"beta0\",\"beta1\",'beta2','beta3','beta4'])"
   ]
  },
  {
   "cell_type": "code",
   "execution_count": 85,
   "metadata": {},
   "outputs": [
    {
     "name": "stdout",
     "output_type": "stream",
     "text": [
      "              precision    recall  f1-score   support\n",
      "\n",
      "         j=1       0.87      1.00      0.93        13\n",
      "         j=2       1.00      0.90      0.95        21\n",
      "         j=3       1.00      1.00      1.00        10\n",
      "\n",
      "    accuracy                           0.95        44\n",
      "   macro avg       0.96      0.97      0.96        44\n",
      "weighted avg       0.96      0.95      0.96        44\n",
      "\n"
     ]
    }
   ],
   "source": [
    "y_pred = clf.predict(X_test)\n",
    "print(classification_report(y_test, y_pred,  target_names=['j=1', 'j=2', 'j=3']))"
   ]
  },
  {
   "cell_type": "code",
   "execution_count": 86,
   "metadata": {},
   "outputs": [
    {
     "name": "stdout",
     "output_type": "stream",
     "text": [
      "While j=2,3 have the lowest error rates, j=3 has the best f1 score, so this model is best at perdicting j3. j3 does not have the most observations. The most accurately predicted category is not the one with the most observations.\n"
     ]
    },
    {
     "data": {
      "text/html": [
       "<div>\n",
       "<style scoped>\n",
       "    .dataframe tbody tr th:only-of-type {\n",
       "        vertical-align: middle;\n",
       "    }\n",
       "\n",
       "    .dataframe tbody tr th {\n",
       "        vertical-align: top;\n",
       "    }\n",
       "\n",
       "    .dataframe thead th {\n",
       "        text-align: right;\n",
       "    }\n",
       "</style>\n",
       "<table border=\"1\" class=\"dataframe\">\n",
       "  <thead>\n",
       "    <tr style=\"text-align: right;\">\n",
       "      <th></th>\n",
       "      <th>Error Rate</th>\n",
       "    </tr>\n",
       "  </thead>\n",
       "  <tbody>\n",
       "    <tr>\n",
       "      <th>j=1</th>\n",
       "      <td>0.13</td>\n",
       "    </tr>\n",
       "    <tr>\n",
       "      <th>j=2</th>\n",
       "      <td>0.00</td>\n",
       "    </tr>\n",
       "    <tr>\n",
       "      <th>j=3</th>\n",
       "      <td>0.00</td>\n",
       "    </tr>\n",
       "  </tbody>\n",
       "</table>\n",
       "</div>"
      ],
      "text/plain": [
       "     Error Rate\n",
       "j=1        0.13\n",
       "j=2        0.00\n",
       "j=3        0.00"
      ]
     },
     "execution_count": 86,
     "metadata": {},
     "output_type": "execute_result"
    }
   ],
   "source": [
    "print('While j=2,3 have the lowest error rates, j=3 has the best f1 score, so this model is best at perdicting j3. j3 does not have the most observations. The most accurately predicted category is not the one with the most observations.')\n",
    "pd.DataFrame([1-0.87, 0, 0],index=['j=1', 'j=2', 'j=3'],columns=['Error Rate'])"
   ]
  },
  {
   "cell_type": "code",
   "execution_count": 87,
   "metadata": {},
   "outputs": [
    {
     "name": "stdout",
     "output_type": "stream",
     "text": [
      "MSE: 0.045454545454545456\n"
     ]
    }
   ],
   "source": [
    "print('MSE:', mean_squared_error(y_test, y_pred))"
   ]
  },
  {
   "cell_type": "markdown",
   "metadata": {},
   "source": [
    "#### 1.b)"
   ]
  },
  {
   "cell_type": "code",
   "execution_count": 88,
   "metadata": {},
   "outputs": [
    {
     "name": "stdout",
     "output_type": "stream",
     "text": [
      "MSE for test set [0]  is [0.]\n",
      "MSE for test set [1]  is [0.]\n",
      "MSE for test set [2]  is [0.]\n",
      "MSE for test set [3]  is [0.]\n",
      "MSE for test set [4]  is [0.]\n",
      "MSE for test set [5]  is [0.]\n",
      "MSE for test set [6]  is [0.]\n",
      "MSE for test set [7]  is [0.]\n",
      "MSE for test set [8]  is [0.]\n",
      "MSE for test set [9]  is [0.]\n",
      "MSE for test set [10]  is [0.]\n",
      "MSE for test set [11]  is [0.]\n",
      "MSE for test set [12]  is [0.]\n",
      "MSE for test set [13]  is [0.]\n",
      "MSE for test set [14]  is [0.]\n",
      "MSE for test set [15]  is [0.]\n",
      "MSE for test set [16]  is [0.]\n",
      "MSE for test set [17]  is [0.]\n",
      "MSE for test set [18]  is [0.]\n",
      "MSE for test set [19]  is [0.]\n",
      "MSE for test set [20]  is [0.]\n",
      "MSE for test set [21]  is [0.]\n",
      "MSE for test set [22]  is [0.]\n",
      "MSE for test set [23]  is [1.]\n",
      "MSE for test set [24]  is [0.]\n",
      "MSE for test set [25]  is [1.]\n",
      "MSE for test set [26]  is [0.]\n",
      "MSE for test set [27]  is [0.]\n",
      "MSE for test set [28]  is [0.]\n",
      "MSE for test set [29]  is [0.]\n",
      "MSE for test set [30]  is [0.]\n",
      "MSE for test set [31]  is [0.]\n",
      "MSE for test set [32]  is [0.]\n",
      "MSE for test set [33]  is [0.]\n",
      "MSE for test set [34]  is [0.]\n",
      "MSE for test set [35]  is [0.]\n",
      "MSE for test set [36]  is [0.]\n",
      "MSE for test set [37]  is [1.]\n",
      "MSE for test set [38]  is [1.]\n",
      "MSE for test set [39]  is [0.]\n",
      "MSE for test set [40]  is [0.]\n",
      "MSE for test set [41]  is [0.]\n",
      "MSE for test set [42]  is [0.]\n",
      "MSE for test set [43]  is [0.]\n",
      "MSE for test set [44]  is [0.]\n",
      "MSE for test set [45]  is [0.]\n",
      "MSE for test set [46]  is [0.]\n",
      "MSE for test set [47]  is [0.]\n",
      "MSE for test set [48]  is [0.]\n",
      "MSE for test set [49]  is [0.]\n",
      "MSE for test set [50]  is [0.]\n",
      "MSE for test set [51]  is [0.]\n",
      "MSE for test set [52]  is [0.]\n",
      "MSE for test set [53]  is [0.]\n",
      "MSE for test set [54]  is [0.]\n",
      "MSE for test set [55]  is [0.]\n",
      "MSE for test set [56]  is [0.]\n",
      "MSE for test set [57]  is [0.]\n",
      "MSE for test set [58]  is [0.]\n",
      "MSE for test set [59]  is [0.]\n",
      "MSE for test set [60]  is [0.]\n",
      "MSE for test set [61]  is [1.]\n",
      "MSE for test set [62]  is [1.]\n",
      "MSE for test set [63]  is [0.]\n",
      "MSE for test set [64]  is [0.]\n",
      "MSE for test set [65]  is [0.]\n",
      "MSE for test set [66]  is [1.]\n",
      "MSE for test set [67]  is [0.]\n",
      "MSE for test set [68]  is [0.]\n",
      "MSE for test set [69]  is [0.]\n",
      "MSE for test set [70]  is [0.]\n",
      "MSE for test set [71]  is [1.]\n",
      "MSE for test set [72]  is [1.]\n",
      "MSE for test set [73]  is [0.]\n",
      "MSE for test set [74]  is [0.]\n",
      "MSE for test set [75]  is [0.]\n",
      "MSE for test set [76]  is [0.]\n",
      "MSE for test set [77]  is [0.]\n",
      "MSE for test set [78]  is [0.]\n",
      "MSE for test set [79]  is [0.]\n",
      "MSE for test set [80]  is [0.]\n",
      "MSE for test set [81]  is [0.]\n",
      "MSE for test set [82]  is [0.]\n",
      "MSE for test set [83]  is [1.]\n",
      "MSE for test set [84]  is [0.]\n",
      "MSE for test set [85]  is [0.]\n",
      "MSE for test set [86]  is [0.]\n",
      "MSE for test set [87]  is [0.]\n",
      "MSE for test set [88]  is [0.]\n",
      "MSE for test set [89]  is [0.]\n",
      "MSE for test set [90]  is [0.]\n",
      "MSE for test set [91]  is [0.]\n",
      "MSE for test set [92]  is [0.]\n",
      "MSE for test set [93]  is [0.]\n",
      "MSE for test set [94]  is [0.]\n",
      "MSE for test set [95]  is [0.]\n",
      "MSE for test set [96]  is [0.]\n",
      "MSE for test set [97]  is [0.]\n",
      "MSE for test set [98]  is [0.]\n",
      "MSE for test set [99]  is [0.]\n",
      "MSE for test set [100]  is [0.]\n",
      "MSE for test set [101]  is [0.]\n",
      "MSE for test set [102]  is [0.]\n",
      "MSE for test set [103]  is [0.]\n",
      "MSE for test set [104]  is [0.]\n",
      "MSE for test set [105]  is [0.]\n",
      "MSE for test set [106]  is [0.]\n",
      "MSE for test set [107]  is [0.]\n",
      "MSE for test set [108]  is [0.]\n",
      "MSE for test set [109]  is [0.]\n",
      "MSE for test set [110]  is [0.]\n",
      "MSE for test set [111]  is [0.]\n",
      "MSE for test set [112]  is [0.]\n",
      "MSE for test set [113]  is [0.]\n",
      "MSE for test set [114]  is [0.]\n",
      "MSE for test set [115]  is [0.]\n",
      "MSE for test set [116]  is [0.]\n",
      "MSE for test set [117]  is [0.]\n",
      "MSE for test set [118]  is [0.]\n",
      "MSE for test set [119]  is [0.]\n",
      "MSE for test set [120]  is [0.]\n",
      "MSE for test set [121]  is [0.]\n",
      "MSE for test set [122]  is [0.]\n",
      "MSE for test set [123]  is [1.]\n",
      "MSE for test set [124]  is [0.]\n",
      "MSE for test set [125]  is [0.]\n",
      "MSE for test set [126]  is [0.]\n",
      "MSE for test set [127]  is [0.]\n",
      "MSE for test set [128]  is [0.]\n",
      "MSE for test set [129]  is [0.]\n",
      "MSE for test set [130]  is [1.]\n",
      "MSE for test set [131]  is [0.]\n",
      "MSE for test set [132]  is [0.]\n",
      "MSE for test set [133]  is [0.]\n",
      "MSE for test set [134]  is [1.]\n",
      "MSE for test set [135]  is [0.]\n",
      "MSE for test set [136]  is [0.]\n",
      "MSE for test set [137]  is [0.]\n",
      "MSE for test set [138]  is [1.]\n",
      "MSE for test set [139]  is [0.]\n",
      "MSE for test set [140]  is [0.]\n",
      "MSE for test set [141]  is [0.]\n",
      "MSE for test set [142]  is [0.]\n",
      "MSE for test set [143]  is [0.]\n",
      "MSE for test set [144]  is [0.]\n",
      "MSE for test set [145]  is [0.]\n",
      "MSE for test set [146]  is [0.]\n",
      "MSE for test set [147]  is [0.]\n",
      "MSE for test set [148]  is [0.]\n",
      "MSE for test set [149]  is [0.]\n",
      "MSE for test set [150]  is [0.]\n",
      "MSE for test set [151]  is [0.]\n",
      "MSE for test set [152]  is [0.]\n",
      "MSE for test set [153]  is [0.]\n",
      "MSE for test set [154]  is [0.]\n",
      "MSE for test set [155]  is [0.]\n",
      "MSE for test set [156]  is [0.]\n",
      "MSE for test set [157]  is [0.]\n",
      "MSE for test set [158]  is [0.]\n",
      "MSE for test set [159]  is [0.]\n",
      "MSE for test set [160]  is [0.]\n",
      "MSE for test set [161]  is [0.]\n",
      "MSE for test set [162]  is [0.]\n",
      "MSE for test set [163]  is [0.]\n",
      "MSE for test set [164]  is [0.]\n",
      "MSE for test set [165]  is [0.]\n",
      "MSE for test set [166]  is [0.]\n",
      "MSE for test set [167]  is [0.]\n",
      "MSE for test set [168]  is [0.]\n",
      "MSE for test set [169]  is [0.]\n",
      "MSE for test set [170]  is [0.]\n",
      "MSE for test set [171]  is [0.]\n",
      "MSE for test set [172]  is [0.]\n",
      "MSE for test set [173]  is [0.]\n",
      "MSE for test set [174]  is [0.]\n",
      "MSE for test set [175]  is [0.]\n"
     ]
    }
   ],
   "source": [
    "Xvars = X.values\n",
    "yvars = y.values\n",
    "N_loo = Xvars.shape[0]\n",
    "loo = LeaveOneOut()\n",
    "loo.get_n_splits(Xvars)\n",
    "MSE_vec = np.zeros(N_loo)\n",
    "ypred = np.zeros(N_loo)\n",
    "ytest = np.zeros(N_loo)\n",
    "\n",
    "for train_index, test_index in loo.split(Xvars):\n",
    "    X_train, X_test = Xvars[train_index], Xvars[test_index]\n",
    "    y_train, y_test = yvars[train_index], yvars[test_index]\n",
    "    ytest[test_index] = y_test\n",
    "    LogReg = lr(solver='newton-cg',multi_class='multinomial').fit(X_train, y_train)\n",
    "    y_pred = LogReg.predict(X_test)\n",
    "    ypred[test_index] = y_pred\n",
    "    if y_test == y_pred: MSE_vec[test_index] = 0\n",
    "    else:MSE_vec[test_index] = 1\n",
    "    print('MSE for test set', test_index, ' is', MSE_vec[test_index])"
   ]
  },
  {
   "cell_type": "code",
   "execution_count": 89,
   "metadata": {},
   "outputs": [
    {
     "name": "stdout",
     "output_type": "stream",
     "text": [
      "test estimate MSE loocv: 0.07954545454545454 \n",
      "MSE std: 0.2705882022679695\n",
      "              precision    recall  f1-score   support\n",
      "\n",
      "           1       0.90      0.93      0.92        59\n",
      "           2       0.91      0.90      0.91        71\n",
      "           3       0.96      0.93      0.95        46\n",
      "\n",
      "    accuracy                           0.92       176\n",
      "   macro avg       0.92      0.92      0.92       176\n",
      "weighted avg       0.92      0.92      0.92       176\n",
      "\n"
     ]
    },
    {
     "data": {
      "text/html": [
       "<div>\n",
       "<style scoped>\n",
       "    .dataframe tbody tr th:only-of-type {\n",
       "        vertical-align: middle;\n",
       "    }\n",
       "\n",
       "    .dataframe tbody tr th {\n",
       "        vertical-align: top;\n",
       "    }\n",
       "\n",
       "    .dataframe thead th {\n",
       "        text-align: right;\n",
       "    }\n",
       "</style>\n",
       "<table border=\"1\" class=\"dataframe\">\n",
       "  <thead>\n",
       "    <tr style=\"text-align: right;\">\n",
       "      <th></th>\n",
       "      <th>Error Rate</th>\n",
       "    </tr>\n",
       "  </thead>\n",
       "  <tbody>\n",
       "    <tr>\n",
       "      <th>j=1</th>\n",
       "      <td>0.10</td>\n",
       "    </tr>\n",
       "    <tr>\n",
       "      <th>j=2</th>\n",
       "      <td>0.09</td>\n",
       "    </tr>\n",
       "    <tr>\n",
       "      <th>j=3</th>\n",
       "      <td>0.04</td>\n",
       "    </tr>\n",
       "  </tbody>\n",
       "</table>\n",
       "</div>"
      ],
      "text/plain": [
       "     Error Rate\n",
       "j=1        0.10\n",
       "j=2        0.09\n",
       "j=3        0.04"
      ]
     },
     "execution_count": 89,
     "metadata": {},
     "output_type": "execute_result"
    }
   ],
   "source": [
    "print('test estimate MSE loocv:',MSE_vec.mean(),\n",
    "      '\\nMSE std:', MSE_vec.std())\n",
    "print(classification_report(yvars, ypred))\n",
    "pd.DataFrame([1-0.9, 1-0.91, 1-0.96],index=['j=1', 'j=2', 'j=3'],columns=['Error Rate'])"
   ]
  },
  {
   "cell_type": "markdown",
   "metadata": {},
   "source": [
    "All three error rates have increased comparing to part a.\n",
    "#### 1.c)"
   ]
  },
  {
   "cell_type": "code",
   "execution_count": 90,
   "metadata": {},
   "outputs": [
    {
     "name": "stdout",
     "output_type": "stream",
     "text": [
      "MSE for test set 0 : 0.1590909090909091\n",
      "MSE for test set 1 : 0.11363636363636363\n",
      "MSE for test set 2 : 0.045454545454545456\n",
      "MSE for test set 3 : 0.045454545454545456\n",
      "test estimate MSE k-fold(k=4) = 0.09090909090909091\n",
      "              precision    recall  f1-score   support\n",
      "\n",
      "           1       0.87      0.93      0.90        59\n",
      "           2       0.91      0.87      0.89        71\n",
      "           3       0.96      0.93      0.95        46\n",
      "\n",
      "    accuracy                           0.91       176\n",
      "   macro avg       0.91      0.91      0.91       176\n",
      "weighted avg       0.91      0.91      0.91       176\n",
      "\n"
     ]
    },
    {
     "data": {
      "text/html": [
       "<div>\n",
       "<style scoped>\n",
       "    .dataframe tbody tr th:only-of-type {\n",
       "        vertical-align: middle;\n",
       "    }\n",
       "\n",
       "    .dataframe tbody tr th {\n",
       "        vertical-align: top;\n",
       "    }\n",
       "\n",
       "    .dataframe thead th {\n",
       "        text-align: right;\n",
       "    }\n",
       "</style>\n",
       "<table border=\"1\" class=\"dataframe\">\n",
       "  <thead>\n",
       "    <tr style=\"text-align: right;\">\n",
       "      <th></th>\n",
       "      <th>Error Rate</th>\n",
       "    </tr>\n",
       "  </thead>\n",
       "  <tbody>\n",
       "    <tr>\n",
       "      <th>j=1</th>\n",
       "      <td>0.13</td>\n",
       "    </tr>\n",
       "    <tr>\n",
       "      <th>j=2</th>\n",
       "      <td>0.09</td>\n",
       "    </tr>\n",
       "    <tr>\n",
       "      <th>j=3</th>\n",
       "      <td>0.04</td>\n",
       "    </tr>\n",
       "  </tbody>\n",
       "</table>\n",
       "</div>"
      ],
      "text/plain": [
       "     Error Rate\n",
       "j=1        0.13\n",
       "j=2        0.09\n",
       "j=3        0.04"
      ]
     },
     "execution_count": 90,
     "metadata": {},
     "output_type": "execute_result"
    }
   ],
   "source": [
    "k = 4\n",
    "kf = KFold(k, random_state=10, shuffle=True)\n",
    "kf.get_n_splits(Xvars)\n",
    "MSE_vec_kf = np.zeros(k)\n",
    "y_pred = np.zeros(N_loo)\n",
    "k_ind = int(0)\n",
    "for train_index, test_index in kf.split(Xvars):\n",
    "    X_train, X_test = Xvars[train_index], Xvars[test_index]\n",
    "    y_train, y_test = yvars[train_index], yvars[test_index]\n",
    "    LogReg = lr(solver='newton-cg',multi_class='multinomial').fit(X_train, y_train)\n",
    "    y_pred[test_index] = LogReg.predict(X_test)\n",
    "    err= y_pred[test_index] != y_test  \n",
    "    MSE_vec_kf[k_ind]=np.mean(err)\n",
    "    print('MSE for test set', k_ind, ':', MSE_vec_kf[k_ind])\n",
    "    k_ind += 1\n",
    "print('test estimate MSE k-fold(k=4) =', MSE_vec_kf.mean())\n",
    "print(classification_report(yvars, y_pred))\n",
    "pd.DataFrame([1-0.87, 1-0.91, 1-0.96],index=['j=1', 'j=2', 'j=3'],columns=['Error Rate'])"
   ]
  },
  {
   "cell_type": "markdown",
   "metadata": {},
   "source": [
    "Error rates for j = 2,3 are the same, but j=1 has increased.\n",
    "#### 2.a)"
   ]
  },
  {
   "cell_type": "code",
   "execution_count": 91,
   "metadata": {},
   "outputs": [
    {
     "data": {
      "image/png": "[encoded data removed]",
      "text/plain": [
       "<Figure size 432x288 with 1 Axes>"
      ]
     },
     "metadata": {
      "needs_background": "light"
     },
     "output_type": "display_data"
    }
   ],
   "source": [
    "df = pd.read_csv('data/CoolIndex.txt', names = ['Age', 'Cool'])\n",
    "plt.scatter(df.Age,df.Cool,)\n",
    "plt.xlabel('Age')\n",
    "plt.ylabel('Coolness Index')\n",
    "plt.title('Coolness trends with age')\n",
    "plt.show()"
   ]
  },
  {
   "cell_type": "markdown",
   "metadata": {},
   "source": [
    "#### 2.b)"
   ]
  },
  {
   "cell_type": "code",
   "execution_count": 92,
   "metadata": {},
   "outputs": [
    {
     "data": {
      "text/html": [
       "<table class=\"simpletable\">\n",
       "<caption>OLS Regression Results</caption>\n",
       "<tr>\n",
       "  <th>Dep. Variable:</th>          <td>Cool</td>       <th>  R-squared:         </th> <td>   0.429</td> \n",
       "</tr>\n",
       "<tr>\n",
       "  <th>Model:</th>                   <td>OLS</td>       <th>  Adj. R-squared:    </th> <td>   0.427</td> \n",
       "</tr>\n",
       "<tr>\n",
       "  <th>Method:</th>             <td>Least Squares</td>  <th>  F-statistic:       </th> <td>   178.7</td> \n",
       "</tr>\n",
       "<tr>\n",
       "  <th>Date:</th>             <td>Wed, 26 Feb 2020</td> <th>  Prob (F-statistic):</th> <td>3.73e-114</td>\n",
       "</tr>\n",
       "<tr>\n",
       "  <th>Time:</th>                 <td>10:04:05</td>     <th>  Log-Likelihood:    </th> <td> -3214.5</td> \n",
       "</tr>\n",
       "<tr>\n",
       "  <th>No. Observations:</th>      <td>   956</td>      <th>  AIC:               </th> <td>   6439.</td> \n",
       "</tr>\n",
       "<tr>\n",
       "  <th>Df Residuals:</th>          <td>   951</td>      <th>  BIC:               </th> <td>   6463.</td> \n",
       "</tr>\n",
       "<tr>\n",
       "  <th>Df Model:</th>              <td>     4</td>      <th>                     </th>     <td> </td>    \n",
       "</tr>\n",
       "<tr>\n",
       "  <th>Covariance Type:</th>      <td>nonrobust</td>    <th>                     </th>     <td> </td>    \n",
       "</tr>\n",
       "</table>\n",
       "<table class=\"simpletable\">\n",
       "<tr>\n",
       "   <td></td>     <th>coef</th>     <th>std err</th>      <th>t</th>      <th>P>|t|</th>  <th>[0.025</th>    <th>0.975]</th>  \n",
       "</tr>\n",
       "<tr>\n",
       "  <th>G1</th> <td>   20.1025</td> <td>    0.562</td> <td>   35.746</td> <td> 0.000</td> <td>   18.999</td> <td>   21.206</td>\n",
       "</tr>\n",
       "<tr>\n",
       "  <th>G2</th> <td>   34.4758</td> <td>    0.431</td> <td>   80.006</td> <td> 0.000</td> <td>   33.630</td> <td>   35.321</td>\n",
       "</tr>\n",
       "<tr>\n",
       "  <th>G3</th> <td>   37.6351</td> <td>    0.424</td> <td>   88.814</td> <td> 0.000</td> <td>   36.804</td> <td>   38.467</td>\n",
       "</tr>\n",
       "<tr>\n",
       "  <th>G4</th> <td>   35.2254</td> <td>    0.485</td> <td>   72.560</td> <td> 0.000</td> <td>   34.273</td> <td>   36.178</td>\n",
       "</tr>\n",
       "<tr>\n",
       "  <th>G5</th> <td>   27.2964</td> <td>    0.936</td> <td>   29.175</td> <td> 0.000</td> <td>   25.460</td> <td>   29.132</td>\n",
       "</tr>\n",
       "</table>\n",
       "<table class=\"simpletable\">\n",
       "<tr>\n",
       "  <th>Omnibus:</th>       <td>80.102</td> <th>  Durbin-Watson:     </th> <td>   1.236</td>\n",
       "</tr>\n",
       "<tr>\n",
       "  <th>Prob(Omnibus):</th> <td> 0.000</td> <th>  Jarque-Bera (JB):  </th> <td> 101.718</td>\n",
       "</tr>\n",
       "<tr>\n",
       "  <th>Skew:</th>          <td> 0.714</td> <th>  Prob(JB):          </th> <td>8.17e-23</td>\n",
       "</tr>\n",
       "<tr>\n",
       "  <th>Kurtosis:</th>      <td> 3.719</td> <th>  Cond. No.          </th> <td>    2.21</td>\n",
       "</tr>\n",
       "</table><br/><br/>Warnings:<br/>[1] Standard Errors assume that the covariance matrix of the errors is correctly specified."
      ],
      "text/plain": [
       "<class 'statsmodels.iolib.summary.Summary'>\n",
       "\"\"\"\n",
       "                            OLS Regression Results                            \n",
       "==============================================================================\n",
       "Dep. Variable:                   Cool   R-squared:                       0.429\n",
       "Model:                            OLS   Adj. R-squared:                  0.427\n",
       "Method:                 Least Squares   F-statistic:                     178.7\n",
       "Date:                Wed, 26 Feb 2020   Prob (F-statistic):          3.73e-114\n",
       "Time:                        10:04:05   Log-Likelihood:                -3214.5\n",
       "No. Observations:                 956   AIC:                             6439.\n",
       "Df Residuals:                     951   BIC:                             6463.\n",
       "Df Model:                           4                                         \n",
       "Covariance Type:            nonrobust                                         \n",
       "==============================================================================\n",
       "                 coef    std err          t      P>|t|      [0.025      0.975]\n",
       "------------------------------------------------------------------------------\n",
       "G1            20.1025      0.562     35.746      0.000      18.999      21.206\n",
       "G2            34.4758      0.431     80.006      0.000      33.630      35.321\n",
       "G3            37.6351      0.424     88.814      0.000      36.804      38.467\n",
       "G4            35.2254      0.485     72.560      0.000      34.273      36.178\n",
       "G5            27.2964      0.936     29.175      0.000      25.460      29.132\n",
       "==============================================================================\n",
       "Omnibus:                       80.102   Durbin-Watson:                   1.236\n",
       "Prob(Omnibus):                  0.000   Jarque-Bera (JB):              101.718\n",
       "Skew:                           0.714   Prob(JB):                     8.17e-23\n",
       "Kurtosis:                       3.719   Cond. No.                         2.21\n",
       "==============================================================================\n",
       "\n",
       "Warnings:\n",
       "[1] Standard Errors assume that the covariance matrix of the errors is correctly specified.\n",
       "\"\"\""
      ]
     },
     "execution_count": 92,
     "metadata": {},
     "output_type": "execute_result"
    }
   ],
   "source": [
    "df[\"G1\"]=np.where((df.Age>=11) & (df.Age<22),1,0)\n",
    "df[\"G2\"]=np.where((df.Age>=22) & (df.Age<40),1,0)\n",
    "df[\"G3\"]=np.where((df.Age>=40) & (df.Age<59),1,0)\n",
    "df[\"G4\"]=np.where((df.Age>=59) & (df.Age<77),1,0)\n",
    "df[\"G5\"]=np.where((df.Age>=77) & (df.Age<=95),1,0)\n",
    "X=df[[\"G1\",\"G2\",\"G3\",\"G4\",\"G5\"]]\n",
    "res=sm.OLS(df.Cool,X).fit()\n",
    "res.summary()"
   ]
  },
  {
   "cell_type": "code",
   "execution_count": 93,
   "metadata": {},
   "outputs": [
    {
     "data": {
      "image/png": "[encoded data removed]",
      "text/plain": [
       "<Figure size 432x288 with 1 Axes>"
      ]
     },
     "metadata": {
      "needs_background": "light"
     },
     "output_type": "display_data"
    },
    {
     "name": "stdout",
     "output_type": "stream",
     "text": [
      "Predicted coolness of a 73-year old: [35.22540004]\n"
     ]
    }
   ],
   "source": [
    "plt.scatter(df.Age,df.Cool, label=\"Points\")\n",
    "plt.plot(df.Age,res.predict(),\"r\",label = \"OLS Stepwise\")\n",
    "plt.legend()\n",
    "plt.xlabel(\"Age\")\n",
    "plt.ylabel(\"Coolness Index\")\n",
    "plt.title(\"Coolness Index against age\")\n",
    "plt.show()\n",
    "print('Predicted coolness of a 73-year old:',str(res.predict([0,0,0,1,0])))\n"
   ]
  },
  {
   "cell_type": "markdown",
   "metadata": {},
   "source": [
    "#### 2.c)"
   ]
  },
  {
   "cell_type": "code",
   "execution_count": 94,
   "metadata": {},
   "outputs": [
    {
     "data": {
      "image/png": "[encoded data removed]",
      "text/plain": [
       "<Figure size 432x288 with 1 Axes>"
      ]
     },
     "metadata": {
      "needs_background": "light"
     },
     "output_type": "display_data"
    },
    {
     "name": "stdout",
     "output_type": "stream",
     "text": [
      "Predicted coolness of a 73-year old: 32.86784862349653\n"
     ]
    }
   ],
   "source": [
    "df2=df.groupby('Age').mean()\n",
    "df2['Age']=df2.index\n",
    "knots=[22,40,59,77]\n",
    "ls=si.LSQUnivariateSpline(np.array(df2.Age), np.array(df2.Cool), t=knots, k=1)\n",
    "plt.scatter(df.Age,df.Cool,label=\"Points\")\n",
    "plt.plot(df.Age,res.predict(),\"r\",label = \"OLS Stepwise\")\n",
    "plt.plot(df2.Age,ls(df2.Age),\"y\",label = \"Linear Spline\")\n",
    "plt.legend()\n",
    "plt.xlabel(\"age\")\n",
    "plt.ylabel(\"Coolness Index\")\n",
    "plt.title(\"Coolness Index against age\")\n",
    "plt.show()\n",
    "print('Predicted coolness of a 73-year old:',str(ls(73)))\n"
   ]
  },
  {
   "cell_type": "markdown",
   "metadata": {},
   "source": [
    "#### 2.d)"
   ]
  },
  {
   "cell_type": "code",
   "execution_count": 95,
   "metadata": {},
   "outputs": [
    {
     "data": {
      "image/png": "[encoded data removed]",
      "text/plain": [
       "<Figure size 432x288 with 1 Axes>"
      ]
     },
     "metadata": {
      "needs_background": "light"
     },
     "output_type": "display_data"
    },
    {
     "name": "stdout",
     "output_type": "stream",
     "text": [
      "Predicted coolness of a 73-year old: 32.642301066279764\n"
     ]
    }
   ],
   "source": [
    "ls2=si.LSQUnivariateSpline(np.array(df2.Age), np.array(df2.Cool), t=knots, k=3)\n",
    "plt.scatter(df.Age,df.Cool,label=\"Points\")\n",
    "plt.plot(df.Age,res.predict(),\"r\",label = \"OLS Stepwise\")\n",
    "plt.plot(df2.Age,ls(df2.Age),\"y\",label = \"Linear Spline\")\n",
    "plt.plot(df2.Age,ls2(df2.Age),'k',label = \"Cubic Spline\")\n",
    "plt.legend()\n",
    "plt.xlabel(\"age\")\n",
    "plt.ylabel(\"Coolness Index\")\n",
    "plt.title(\"Coolness Index against age\")\n",
    "plt.show()\n",
    "print('Predicted coolness of a 73-year old:',str(ls2(73)))\n"
   ]
  },
  {
   "cell_type": "code",
   "execution_count": null,
   "metadata": {},
   "outputs": [],
   "source": []
  },
  {
   "cell_type": "code",
   "execution_count": null,
   "metadata": {},
   "outputs": [],
   "source": []
  },
  {
   "cell_type": "code",
   "execution_count": null,
   "metadata": {},
   "outputs": [],
   "source": []
  },
  {
   "cell_type": "code",
   "execution_count": null,
   "metadata": {},
   "outputs": [],
   "source": []
  }
 ],
 "metadata": {
  "kernelspec": {
   "display_name": "Python 3",
   "language": "python",
   "name": "python3"
  },
  "language_info": {
   "codemirror_mode": {
    "name": "ipython",
    "version": 3
   },
   "file_extension": ".py",
   "mimetype": "text/x-python",
   "name": "python",
   "nbconvert_exporter": "python",
   "pygments_lexer": "ipython3",
   "version": "3.7.4"
  }
 },
 "nbformat": 4,
 "nbformat_minor": 2
}
